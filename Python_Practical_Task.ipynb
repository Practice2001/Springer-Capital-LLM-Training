{
 "cells": [
  {
   "cell_type": "markdown",
   "id": "1edb8aa6",
   "metadata": {},
   "source": [
    "# Python Practical Task"
   ]
  },
  {
   "cell_type": "markdown",
   "id": "d3485fb8",
   "metadata": {},
   "source": [
    "## Load data into pandas, clean it (remove nulls), and plot a bar graph of article categories. "
   ]
  },
  {
   "cell_type": "markdown",
   "id": "514fad6a",
   "metadata": {},
   "source": [
    "### Importing libraries and loading datasets."
   ]
  },
  {
   "cell_type": "code",
   "execution_count": 1,
   "id": "ce59b7fd",
   "metadata": {},
   "outputs": [
    {
     "name": "stdout",
     "output_type": "stream",
     "text": [
      "   Index  Organization Id                          Name  \\\n",
      "0      1  391dAA77fea9EC1                Daniel-Mcmahon   \n",
      "1      2  9FcCA4A23e6BcfA     Mcdowell, Tate and Murray   \n",
      "2      3  DB23330238B7B3D  Roberts, Carson and Trujillo   \n",
      "3      4  bbf18835CFbEee7  Poole, Jefferson and Merritt   \n",
      "4      5  74ECD725ceaDfd9    Ritter, Patel and Cisneros   \n",
      "\n",
      "                             Website                  Country  \\\n",
      "0           https://stuart-rios.biz/                 Cambodia   \n",
      "1                 http://jacobs.biz/                   Guyana   \n",
      "2               http://www.park.com/                   Jordan   \n",
      "3                 http://hayden.com/  Cocos (Keeling) Islands   \n",
      "4  https://www.mason-blackwell.info/                  Ecuador   \n",
      "\n",
      "                           Description  Founded             Industry  \\\n",
      "0        Focused eco-centric help-desk     2013               Sports   \n",
      "1          Front-line real-time portal     2018       Legal Services   \n",
      "2     Innovative hybrid data-warehouse     1992          Hospitality   \n",
      "3  Extended regional Graphic Interface     1991      Food Production   \n",
      "4  Re-contextualized actuating website     2019  Computer Networking   \n",
      "\n",
      "   Number of employees  \n",
      "0                 1878  \n",
      "1                 9743  \n",
      "2                 7537  \n",
      "3                 9974  \n",
      "4                 5050  \n"
     ]
    }
   ],
   "source": [
    "#Importing pandas library to clean data\n",
    "import pandas as pd\n",
    "\n",
    "#Loading the CSV file into a DataFrame\n",
    "df = pd.read_csv(\"organizations-2000000.csv\")\n",
    "\n",
    "#Displaying first 5 rows of the dataset\n",
    "print(df.head())"
   ]
  },
  {
   "cell_type": "markdown",
   "id": "49678087",
   "metadata": {},
   "source": [
    "### Cleaning the dataset"
   ]
  },
  {
   "cell_type": "code",
   "execution_count": 3,
   "id": "8e7ff408",
   "metadata": {},
   "outputs": [
    {
     "name": "stdout",
     "output_type": "stream",
     "text": [
      "   Index  Organization Id                          Name  \\\n",
      "0      1  391dAA77fea9EC1                Daniel-Mcmahon   \n",
      "1      2  9FcCA4A23e6BcfA     Mcdowell, Tate and Murray   \n",
      "2      3  DB23330238B7B3D  Roberts, Carson and Trujillo   \n",
      "3      4  bbf18835CFbEee7  Poole, Jefferson and Merritt   \n",
      "4      5  74ECD725ceaDfd9    Ritter, Patel and Cisneros   \n",
      "\n",
      "                             Website                  Country  \\\n",
      "0           https://stuart-rios.biz/                 Cambodia   \n",
      "1                 http://jacobs.biz/                   Guyana   \n",
      "2               http://www.park.com/                   Jordan   \n",
      "3                 http://hayden.com/  Cocos (Keeling) Islands   \n",
      "4  https://www.mason-blackwell.info/                  Ecuador   \n",
      "\n",
      "                           Description  Founded             Industry  \\\n",
      "0        Focused eco-centric help-desk     2013               Sports   \n",
      "1          Front-line real-time portal     2018       Legal Services   \n",
      "2     Innovative hybrid data-warehouse     1992          Hospitality   \n",
      "3  Extended regional Graphic Interface     1991      Food Production   \n",
      "4  Re-contextualized actuating website     2019  Computer Networking   \n",
      "\n",
      "   Number of employees  \n",
      "0                 1878  \n",
      "1                 9743  \n",
      "2                 7537  \n",
      "3                 9974  \n",
      "4                 5050  \n"
     ]
    }
   ],
   "source": [
    "#Removing missing values\n",
    "df_cleaned = df.dropna()\n",
    "\n",
    "#Cleaned dataset\n",
    "print(df_cleaned.head())"
   ]
  },
  {
   "cell_type": "markdown",
   "id": "85735b01",
   "metadata": {},
   "source": [
    "### Plotting a bar graph for selected industries from the dataset"
   ]
  },
  {
   "cell_type": "code",
   "execution_count": 9,
   "id": "7d34d0ab",
   "metadata": {},
   "outputs": [
    {
     "data": {
      "image/png": "[encoded data removed]",
      "text/plain": [
       "<Figure size 432x288 with 1 Axes>"
      ]
     },
     "metadata": {
      "needs_background": "light"
     },
     "output_type": "display_data"
    }
   ],
   "source": [
    "# Filter for specific industries\n",
    "selected_industries = [\"Sports\", \"Hospitality\", \"Legal Services\"]\n",
    "df_filtered = df_cleaned[df_cleaned[\"Industry\"].isin(selected_industries)]\n",
    "\n",
    "\n",
    "import matplotlib.pyplot as plt\n",
    "\n",
    "# Count occurrences of selected industries\n",
    "industry_counts = df_filtered[\"Industry\"].value_counts()\n",
    "\n",
    "# Define custom colors for each bar\n",
    "colors = [\"skyblue\", \"lightgreen\", \"salmon\"]\n",
    "\n",
    "# Bar graph with separate colors\n",
    "industry_counts.plot(kind=\"bar\", color=colors, edgecolor=\"black\")\n",
    "\n",
    "# Labels and title\n",
    "plt.xlabel(\"Industries\")\n",
    "plt.ylabel(\"Count\")\n",
    "plt.title(\"Filtered Industry Distribution with Separate Colors\")\n",
    "\n",
    "# Show\n",
    "plt.show()\n"
   ]
  },
  {
   "cell_type": "code",
   "execution_count": null,
   "id": "cbca78ac",
   "metadata": {},
   "outputs": [],
   "source": []
  }
 ],
 "metadata": {
  "kernelspec": {
   "display_name": "Python 3 (ipykernel)",
   "language": "python",
   "name": "python3"
  },
  "language_info": {
   "codemirror_mode": {
    "name": "ipython",
    "version": 3
   },
   "file_extension": ".py",
   "mimetype": "text/x-python",
   "name": "python",
   "nbconvert_exporter": "python",
   "pygments_lexer": "ipython3",
   "version": "3.10.4"
  }
 },
 "nbformat": 4,
 "nbformat_minor": 5
}
